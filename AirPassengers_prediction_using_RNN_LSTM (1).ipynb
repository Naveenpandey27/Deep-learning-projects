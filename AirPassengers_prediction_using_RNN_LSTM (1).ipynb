{
  "nbformat": 4,
  "nbformat_minor": 0,
  "metadata": {
    "colab": {
      "name": "AirPassengers prediction using RNN LSTM.ipynb",
      "provenance": []
    },
    "kernelspec": {
      "name": "python3",
      "display_name": "Python 3"
    }
  },
  "cells": [
    {
      "cell_type": "code",
      "metadata": {
        "id": "TXgyRMkSRNIj",
        "colab_type": "code",
        "colab": {}
      },
      "source": [
        "#impoet dependencies\n",
        "\n",
        "from tensorflow.keras.models import Sequential # Initalize ANN\n",
        "from tensorflow.keras.layers import Dense, LSTM\n",
        "from sklearn.model_selection import train_test_split\n",
        "from sklearn.preprocessing import MinMaxScaler\n",
        "import matplotlib.pyplot as plt\n",
        "import pandas as pd\n",
        "import numpy as np\n"
      ],
      "execution_count": 2,
      "outputs": []
    },
    {
      "cell_type": "code",
      "metadata": {
        "id": "Ntgk___vSWAa",
        "colab_type": "code",
        "colab": {
          "resources": {
            "http://localhost:8080/nbextensions/google.colab/files.js": {
              "data": "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",
              "ok": true,
              "headers": [
                [
                  "content-type",
                  "application/javascript"
                ]
              ],
              "status": 200,
              "status_text": ""
            }
          },
          "base_uri": "https://localhost:8080/",
          "height": 73
        },
        "outputId": "a8ad3d27-9b14-4b09-8642-c143797e5e19"
      },
      "source": [
        "from google.colab import files\n",
        "uploaded = files.upload()"
      ],
      "execution_count": 3,
      "outputs": [
        {
          "output_type": "display_data",
          "data": {
            "text/html": [
              "\n",
              "     <input type=\"file\" id=\"files-aab35d75-597c-4135-a075-c83d4676e96f\" name=\"files[]\" multiple disabled\n",
              "        style=\"border:none\" />\n",
              "     <output id=\"result-aab35d75-597c-4135-a075-c83d4676e96f\">\n",
              "      Upload widget is only available when the cell has been executed in the\n",
              "      current browser session. Please rerun this cell to enable.\n",
              "      </output>\n",
              "      <script src=\"/nbextensions/google.colab/files.js\"></script> "
            ],
            "text/plain": [
              "<IPython.core.display.HTML object>"
            ]
          },
          "metadata": {
            "tags": []
          }
        },
        {
          "output_type": "stream",
          "text": [
            "Saving AirPassengers.csv to AirPassengers.csv\n"
          ],
          "name": "stdout"
        }
      ]
    },
    {
      "cell_type": "code",
      "metadata": {
        "id": "bYurj6GMXjxZ",
        "colab_type": "code",
        "colab": {
          "base_uri": "https://localhost:8080/",
          "height": 1000
        },
        "outputId": "f40e21b6-1404-4415-e80d-1c99008053cc"
      },
      "source": [
        "df = pd.read_csv('AirPassengers.csv')\n",
        "df = df['#Passengers']\n",
        "df = np.array(df).reshape(-1,1)\n",
        "df"
      ],
      "execution_count": 7,
      "outputs": [
        {
          "output_type": "execute_result",
          "data": {
            "text/plain": [
              "array([[112],\n",
              "       [118],\n",
              "       [132],\n",
              "       [129],\n",
              "       [121],\n",
              "       [135],\n",
              "       [148],\n",
              "       [148],\n",
              "       [136],\n",
              "       [119],\n",
              "       [104],\n",
              "       [118],\n",
              "       [115],\n",
              "       [126],\n",
              "       [141],\n",
              "       [135],\n",
              "       [125],\n",
              "       [149],\n",
              "       [170],\n",
              "       [170],\n",
              "       [158],\n",
              "       [133],\n",
              "       [114],\n",
              "       [140],\n",
              "       [145],\n",
              "       [150],\n",
              "       [178],\n",
              "       [163],\n",
              "       [172],\n",
              "       [178],\n",
              "       [199],\n",
              "       [199],\n",
              "       [184],\n",
              "       [162],\n",
              "       [146],\n",
              "       [166],\n",
              "       [171],\n",
              "       [180],\n",
              "       [193],\n",
              "       [181],\n",
              "       [183],\n",
              "       [218],\n",
              "       [230],\n",
              "       [242],\n",
              "       [209],\n",
              "       [191],\n",
              "       [172],\n",
              "       [194],\n",
              "       [196],\n",
              "       [196],\n",
              "       [236],\n",
              "       [235],\n",
              "       [229],\n",
              "       [243],\n",
              "       [264],\n",
              "       [272],\n",
              "       [237],\n",
              "       [211],\n",
              "       [180],\n",
              "       [201],\n",
              "       [204],\n",
              "       [188],\n",
              "       [235],\n",
              "       [227],\n",
              "       [234],\n",
              "       [264],\n",
              "       [302],\n",
              "       [293],\n",
              "       [259],\n",
              "       [229],\n",
              "       [203],\n",
              "       [229],\n",
              "       [242],\n",
              "       [233],\n",
              "       [267],\n",
              "       [269],\n",
              "       [270],\n",
              "       [315],\n",
              "       [364],\n",
              "       [347],\n",
              "       [312],\n",
              "       [274],\n",
              "       [237],\n",
              "       [278],\n",
              "       [284],\n",
              "       [277],\n",
              "       [317],\n",
              "       [313],\n",
              "       [318],\n",
              "       [374],\n",
              "       [413],\n",
              "       [405],\n",
              "       [355],\n",
              "       [306],\n",
              "       [271],\n",
              "       [306],\n",
              "       [315],\n",
              "       [301],\n",
              "       [356],\n",
              "       [348],\n",
              "       [355],\n",
              "       [422],\n",
              "       [465],\n",
              "       [467],\n",
              "       [404],\n",
              "       [347],\n",
              "       [305],\n",
              "       [336],\n",
              "       [340],\n",
              "       [318],\n",
              "       [362],\n",
              "       [348],\n",
              "       [363],\n",
              "       [435],\n",
              "       [491],\n",
              "       [505],\n",
              "       [404],\n",
              "       [359],\n",
              "       [310],\n",
              "       [337],\n",
              "       [360],\n",
              "       [342],\n",
              "       [406],\n",
              "       [396],\n",
              "       [420],\n",
              "       [472],\n",
              "       [548],\n",
              "       [559],\n",
              "       [463],\n",
              "       [407],\n",
              "       [362],\n",
              "       [405],\n",
              "       [417],\n",
              "       [391],\n",
              "       [419],\n",
              "       [461],\n",
              "       [472],\n",
              "       [535],\n",
              "       [622],\n",
              "       [606],\n",
              "       [508],\n",
              "       [461],\n",
              "       [390],\n",
              "       [432]])"
            ]
          },
          "metadata": {
            "tags": []
          },
          "execution_count": 7
        }
      ]
    },
    {
      "cell_type": "code",
      "metadata": {
        "id": "9ND7KiH5X8PN",
        "colab_type": "code",
        "colab": {
          "base_uri": "https://localhost:8080/",
          "height": 283
        },
        "outputId": "64c31689-1ec7-4ecf-eba0-e999e64a8907"
      },
      "source": [
        "# Plot the data\n",
        "\n",
        "plt.plot(df)"
      ],
      "execution_count": 50,
      "outputs": [
        {
          "output_type": "execute_result",
          "data": {
            "text/plain": [
              "[<matplotlib.lines.Line2D at 0x7f7c2e621a58>]"
            ]
          },
          "metadata": {
            "tags": []
          },
          "execution_count": 50
        },
        {
          "output_type": "display_data",
          "data": {
            "image/png": "[encoded data removed]",
            "text/plain": [
              "<Figure size 432x288 with 1 Axes>"
            ]
          },
          "metadata": {
            "tags": [],
            "needs_background": "light"
          }
        }
      ]
    },
    {
      "cell_type": "code",
      "metadata": {
        "id": "KIm6OFvnX9sz",
        "colab_type": "code",
        "colab": {}
      },
      "source": [
        "import seaborn as sns"
      ],
      "execution_count": 51,
      "outputs": []
    },
    {
      "cell_type": "code",
      "metadata": {
        "id": "nTg5fKsMYmQa",
        "colab_type": "code",
        "colab": {
          "base_uri": "https://localhost:8080/",
          "height": 283
        },
        "outputId": "b6e7b710-7f7e-46bc-e75f-3f28535f5520"
      },
      "source": [
        "sns.distplot(df)"
      ],
      "execution_count": 52,
      "outputs": [
        {
          "output_type": "execute_result",
          "data": {
            "text/plain": [
              "<matplotlib.axes._subplots.AxesSubplot at 0x7f7c2e5e0080>"
            ]
          },
          "metadata": {
            "tags": []
          },
          "execution_count": 52
        },
        {
          "output_type": "display_data",
          "data": {
            "image/png": "[encoded data removed]",
            "text/plain": [
              "<Figure size 432x288 with 1 Axes>"
            ]
          },
          "metadata": {
            "tags": [],
            "needs_background": "light"
          }
        }
      ]
    },
    {
      "cell_type": "code",
      "metadata": {
        "id": "HuSkz3xjYskO",
        "colab_type": "code",
        "colab": {
          "base_uri": "https://localhost:8080/",
          "height": 35
        },
        "outputId": "b55dba00-c2d3-41d8-bd5b-67834ce9004c"
      },
      "source": [
        "# Scale the value\n",
        "\n",
        "sc = MinMaxScaler()\n",
        "df = sc.fit_transform(df)\n",
        "df.max()"
      ],
      "execution_count": 53,
      "outputs": [
        {
          "output_type": "execute_result",
          "data": {
            "text/plain": [
              "1.0"
            ]
          },
          "metadata": {
            "tags": []
          },
          "execution_count": 53
        }
      ]
    },
    {
      "cell_type": "code",
      "metadata": {
        "id": "bOzCtVe4Zet4",
        "colab_type": "code",
        "colab": {}
      },
      "source": [
        "train_size = 100\n",
        "test_size = 44"
      ],
      "execution_count": 54,
      "outputs": []
    },
    {
      "cell_type": "code",
      "metadata": {
        "id": "sMGjVVv7aPDI",
        "colab_type": "code",
        "colab": {
          "base_uri": "https://localhost:8080/",
          "height": 35
        },
        "outputId": "105f91e2-5bf2-401e-ea4a-acd0fa2c1d55"
      },
      "source": [
        "train = df[0:train_size, :]\n",
        "train.shape"
      ],
      "execution_count": 55,
      "outputs": [
        {
          "output_type": "execute_result",
          "data": {
            "text/plain": [
              "(100, 1)"
            ]
          },
          "metadata": {
            "tags": []
          },
          "execution_count": 55
        }
      ]
    },
    {
      "cell_type": "code",
      "metadata": {
        "id": "1zTRXgucacWn",
        "colab_type": "code",
        "colab": {
          "base_uri": "https://localhost:8080/",
          "height": 35
        },
        "outputId": "82969d5f-c254-4624-b87f-63b858504d4d"
      },
      "source": [
        "test = df[train_size:144, :]\n",
        "test.shape"
      ],
      "execution_count": 56,
      "outputs": [
        {
          "output_type": "execute_result",
          "data": {
            "text/plain": [
              "(44, 1)"
            ]
          },
          "metadata": {
            "tags": []
          },
          "execution_count": 56
        }
      ]
    },
    {
      "cell_type": "code",
      "metadata": {
        "id": "cNaW1AzSaqbC",
        "colab_type": "code",
        "colab": {}
      },
      "source": [
        "### Building training and testing data\n",
        "\n",
        "def get_data(df):\n",
        "  X, y = [], []\n",
        "  for i in range(len(df)-1-1):\n",
        "    a = df[i:(i+1), 0] \n",
        "    X.append(a)\n",
        "    y.append(df[i+1, 0])\n",
        "  return np.array(X), np.array(y)"
      ],
      "execution_count": 57,
      "outputs": []
    },
    {
      "cell_type": "code",
      "metadata": {
        "id": "qQI790ODbhU9",
        "colab_type": "code",
        "colab": {}
      },
      "source": [
        "X_train, y_train = get_data(train)"
      ],
      "execution_count": 58,
      "outputs": []
    },
    {
      "cell_type": "code",
      "metadata": {
        "id": "FHw6BTYPeKWE",
        "colab_type": "code",
        "colab": {
          "base_uri": "https://localhost:8080/",
          "height": 35
        },
        "outputId": "a789e49f-6ec2-4282-cdfa-f441d78c1675"
      },
      "source": [
        "X_train.shape"
      ],
      "execution_count": 59,
      "outputs": [
        {
          "output_type": "execute_result",
          "data": {
            "text/plain": [
              "(98, 1)"
            ]
          },
          "metadata": {
            "tags": []
          },
          "execution_count": 59
        }
      ]
    },
    {
      "cell_type": "code",
      "metadata": {
        "id": "umAHPm-XeT5C",
        "colab_type": "code",
        "colab": {
          "base_uri": "https://localhost:8080/",
          "height": 381
        },
        "outputId": "72d2a4fd-3413-4934-a745-be4036b5b699"
      },
      "source": [
        "y_train"
      ],
      "execution_count": 60,
      "outputs": [
        {
          "output_type": "execute_result",
          "data": {
            "text/plain": [
              "array([0.02702703, 0.05405405, 0.04826255, 0.03281853, 0.05984556,\n",
              "       0.08494208, 0.08494208, 0.06177606, 0.02895753, 0.        ,\n",
              "       0.02702703, 0.02123552, 0.04247104, 0.07142857, 0.05984556,\n",
              "       0.04054054, 0.08687259, 0.12741313, 0.12741313, 0.1042471 ,\n",
              "       0.05598456, 0.01930502, 0.06949807, 0.07915058, 0.08880309,\n",
              "       0.14285714, 0.11389961, 0.13127413, 0.14285714, 0.18339768,\n",
              "       0.18339768, 0.15444015, 0.11196911, 0.08108108, 0.11969112,\n",
              "       0.12934363, 0.14671815, 0.17181467, 0.14864865, 0.15250965,\n",
              "       0.22007722, 0.24324324, 0.26640927, 0.2027027 , 0.16795367,\n",
              "       0.13127413, 0.17374517, 0.17760618, 0.17760618, 0.25482625,\n",
              "       0.25289575, 0.24131274, 0.26833977, 0.30888031, 0.32432432,\n",
              "       0.25675676, 0.20656371, 0.14671815, 0.18725869, 0.19305019,\n",
              "       0.16216216, 0.25289575, 0.23745174, 0.25096525, 0.30888031,\n",
              "       0.38223938, 0.36486486, 0.2992278 , 0.24131274, 0.19111969,\n",
              "       0.24131274, 0.26640927, 0.24903475, 0.31467181, 0.31853282,\n",
              "       0.32046332, 0.40733591, 0.5019305 , 0.46911197, 0.4015444 ,\n",
              "       0.32818533, 0.25675676, 0.33590734, 0.34749035, 0.33397683,\n",
              "       0.41119691, 0.4034749 , 0.41312741, 0.52123552, 0.5965251 ,\n",
              "       0.58108108, 0.48455598, 0.38996139, 0.32239382, 0.38996139,\n",
              "       0.40733591, 0.38030888, 0.48648649])"
            ]
          },
          "metadata": {
            "tags": []
          },
          "execution_count": 60
        }
      ]
    },
    {
      "cell_type": "code",
      "metadata": {
        "id": "48Vgx77JeWPf",
        "colab_type": "code",
        "colab": {}
      },
      "source": [
        "X_test, y_test = get_data(test)"
      ],
      "execution_count": 61,
      "outputs": []
    },
    {
      "cell_type": "code",
      "metadata": {
        "id": "OqWU5DwEfpsd",
        "colab_type": "code",
        "colab": {}
      },
      "source": [
        "X_train = X_train.reshape(X_train.shape[0], X_train.shape[1], 1)\n",
        "X_test = X_test.reshape(X_test.shape[0], X_test.shape[1],1)"
      ],
      "execution_count": 62,
      "outputs": []
    },
    {
      "cell_type": "code",
      "metadata": {
        "id": "0SBK98MIfrvb",
        "colab_type": "code",
        "colab": {}
      },
      "source": [
        "model = Sequential()\n",
        "model.add(LSTM(4, input_shape = (1,1)))\n",
        "model.add(Dense(1))\n",
        "model.compile(loss = 'mean_squared_error', optimizer = 'adam')"
      ],
      "execution_count": 63,
      "outputs": []
    },
    {
      "cell_type": "code",
      "metadata": {
        "id": "mnp5AFuSftF8",
        "colab_type": "code",
        "colab": {
          "base_uri": "https://localhost:8080/",
          "height": 235
        },
        "outputId": "eebe3faf-bce4-4823-a097-9a9911fa31a3"
      },
      "source": [
        "model.summary()"
      ],
      "execution_count": 64,
      "outputs": [
        {
          "output_type": "stream",
          "text": [
            "Model: \"sequential_2\"\n",
            "_________________________________________________________________\n",
            "Layer (type)                 Output Shape              Param #   \n",
            "=================================================================\n",
            "lstm_1 (LSTM)                (None, 4)                 96        \n",
            "_________________________________________________________________\n",
            "dense_1 (Dense)              (None, 1)                 5         \n",
            "=================================================================\n",
            "Total params: 101\n",
            "Trainable params: 101\n",
            "Non-trainable params: 0\n",
            "_________________________________________________________________\n"
          ],
          "name": "stdout"
        }
      ]
    },
    {
      "cell_type": "code",
      "metadata": {
        "id": "rnrpRVqHzOB0",
        "colab_type": "code",
        "colab": {
          "base_uri": "https://localhost:8080/",
          "height": 1000
        },
        "outputId": "2a64f8ac-0ba8-4ab0-d49f-ee20452947d8"
      },
      "source": [
        "model.fit(X_train, y_train, epochs = 50)"
      ],
      "execution_count": 65,
      "outputs": [
        {
          "output_type": "stream",
          "text": [
            "Epoch 1/50\n",
            "4/4 [==============================] - 0s 3ms/step - loss: 0.0534\n",
            "Epoch 2/50\n",
            "4/4 [==============================] - 0s 2ms/step - loss: 0.0499\n",
            "Epoch 3/50\n",
            "4/4 [==============================] - 0s 2ms/step - loss: 0.0468\n",
            "Epoch 4/50\n",
            "4/4 [==============================] - 0s 2ms/step - loss: 0.0437\n",
            "Epoch 5/50\n",
            "4/4 [==============================] - 0s 1ms/step - loss: 0.0408\n",
            "Epoch 6/50\n",
            "4/4 [==============================] - 0s 1ms/step - loss: 0.0379\n",
            "Epoch 7/50\n",
            "4/4 [==============================] - 0s 2ms/step - loss: 0.0353\n",
            "Epoch 8/50\n",
            "4/4 [==============================] - 0s 1ms/step - loss: 0.0329\n",
            "Epoch 9/50\n",
            "4/4 [==============================] - 0s 2ms/step - loss: 0.0306\n",
            "Epoch 10/50\n",
            "4/4 [==============================] - 0s 2ms/step - loss: 0.0284\n",
            "Epoch 11/50\n",
            "4/4 [==============================] - 0s 2ms/step - loss: 0.0264\n",
            "Epoch 12/50\n",
            "4/4 [==============================] - 0s 1ms/step - loss: 0.0246\n",
            "Epoch 13/50\n",
            "4/4 [==============================] - 0s 1ms/step - loss: 0.0228\n",
            "Epoch 14/50\n",
            "4/4 [==============================] - 0s 1ms/step - loss: 0.0216\n",
            "Epoch 15/50\n",
            "4/4 [==============================] - 0s 1ms/step - loss: 0.0203\n",
            "Epoch 16/50\n",
            "4/4 [==============================] - 0s 1ms/step - loss: 0.0193\n",
            "Epoch 17/50\n",
            "4/4 [==============================] - 0s 2ms/step - loss: 0.0183\n",
            "Epoch 18/50\n",
            "4/4 [==============================] - 0s 2ms/step - loss: 0.0173\n",
            "Epoch 19/50\n",
            "4/4 [==============================] - 0s 1ms/step - loss: 0.0164\n",
            "Epoch 20/50\n",
            "4/4 [==============================] - 0s 2ms/step - loss: 0.0155\n",
            "Epoch 21/50\n",
            "4/4 [==============================] - 0s 1ms/step - loss: 0.0148\n",
            "Epoch 22/50\n",
            "4/4 [==============================] - 0s 1ms/step - loss: 0.0143\n",
            "Epoch 23/50\n",
            "4/4 [==============================] - 0s 2ms/step - loss: 0.0139\n",
            "Epoch 24/50\n",
            "4/4 [==============================] - 0s 2ms/step - loss: 0.0135\n",
            "Epoch 25/50\n",
            "4/4 [==============================] - 0s 1ms/step - loss: 0.0131\n",
            "Epoch 26/50\n",
            "4/4 [==============================] - 0s 1ms/step - loss: 0.0127\n",
            "Epoch 27/50\n",
            "4/4 [==============================] - 0s 2ms/step - loss: 0.0124\n",
            "Epoch 28/50\n",
            "4/4 [==============================] - 0s 3ms/step - loss: 0.0121\n",
            "Epoch 29/50\n",
            "4/4 [==============================] - 0s 2ms/step - loss: 0.0118\n",
            "Epoch 30/50\n",
            "4/4 [==============================] - 0s 2ms/step - loss: 0.0116\n",
            "Epoch 31/50\n",
            "4/4 [==============================] - 0s 2ms/step - loss: 0.0114\n",
            "Epoch 32/50\n",
            "4/4 [==============================] - 0s 2ms/step - loss: 0.0112\n",
            "Epoch 33/50\n",
            "4/4 [==============================] - 0s 3ms/step - loss: 0.0110\n",
            "Epoch 34/50\n",
            "4/4 [==============================] - 0s 2ms/step - loss: 0.0108\n",
            "Epoch 35/50\n",
            "4/4 [==============================] - 0s 2ms/step - loss: 0.0107\n",
            "Epoch 36/50\n",
            "4/4 [==============================] - 0s 2ms/step - loss: 0.0105\n",
            "Epoch 37/50\n",
            "4/4 [==============================] - 0s 2ms/step - loss: 0.0104\n",
            "Epoch 38/50\n",
            "4/4 [==============================] - 0s 2ms/step - loss: 0.0103\n",
            "Epoch 39/50\n",
            "4/4 [==============================] - 0s 2ms/step - loss: 0.0102\n",
            "Epoch 40/50\n",
            "4/4 [==============================] - 0s 2ms/step - loss: 0.0101\n",
            "Epoch 41/50\n",
            "4/4 [==============================] - 0s 2ms/step - loss: 0.0101\n",
            "Epoch 42/50\n",
            "4/4 [==============================] - 0s 2ms/step - loss: 0.0100\n",
            "Epoch 43/50\n",
            "4/4 [==============================] - 0s 2ms/step - loss: 0.0099\n",
            "Epoch 44/50\n",
            "4/4 [==============================] - 0s 2ms/step - loss: 0.0098\n",
            "Epoch 45/50\n",
            "4/4 [==============================] - 0s 2ms/step - loss: 0.0098\n",
            "Epoch 46/50\n",
            "4/4 [==============================] - 0s 2ms/step - loss: 0.0097\n",
            "Epoch 47/50\n",
            "4/4 [==============================] - 0s 2ms/step - loss: 0.0096\n",
            "Epoch 48/50\n",
            "4/4 [==============================] - 0s 2ms/step - loss: 0.0096\n",
            "Epoch 49/50\n",
            "4/4 [==============================] - 0s 2ms/step - loss: 0.0095\n",
            "Epoch 50/50\n",
            "4/4 [==============================] - 0s 2ms/step - loss: 0.0094\n"
          ],
          "name": "stdout"
        },
        {
          "output_type": "execute_result",
          "data": {
            "text/plain": [
              "<tensorflow.python.keras.callbacks.History at 0x7f7c2e4c7828>"
            ]
          },
          "metadata": {
            "tags": []
          },
          "execution_count": 65
        }
      ]
    },
    {
      "cell_type": "code",
      "metadata": {
        "id": "Q7UJOOVxzi1A",
        "colab_type": "code",
        "colab": {}
      },
      "source": [
        "y_pred = model.predict(X_test)"
      ],
      "execution_count": 66,
      "outputs": []
    },
    {
      "cell_type": "code",
      "metadata": {
        "id": "QgcOhc8Fz5vs",
        "colab_type": "code",
        "colab": {}
      },
      "source": [
        "y_pred = sc.inverse_transform(y_pred)"
      ],
      "execution_count": 67,
      "outputs": []
    },
    {
      "cell_type": "code",
      "metadata": {
        "id": "a97pgfKo0X2S",
        "colab_type": "code",
        "colab": {}
      },
      "source": [
        "y_test = np.array(y_test)\n",
        "y_test = y_test.reshape(-1,1)\n",
        "y_test = sc.inverse_transform(y_test)"
      ],
      "execution_count": 68,
      "outputs": []
    },
    {
      "cell_type": "code",
      "metadata": {
        "id": "vnPicDFW0qsk",
        "colab_type": "code",
        "colab": {
          "base_uri": "https://localhost:8080/",
          "height": 320
        },
        "outputId": "b9421444-c405-4ef1-e8a6-18c588e515e7"
      },
      "source": [
        "plt.figure(figsize = (14, 5))\n",
        "plt.plot(y_test, label = 'real number of passengers')\n",
        "plt.plot(y_pred, label = 'predicted number of passengers')\n",
        "plt.ylabel('passengers')\n",
        "plt.legend()\n",
        "plt.show()"
      ],
      "execution_count": 69,
      "outputs": [
        {
          "output_type": "display_data",
          "data": {
            "image/png": "[encoded data removed]",
            "text/plain": [
              "<Figure size 1008x360 with 1 Axes>"
            ]
          },
          "metadata": {
            "tags": [],
            "needs_background": "light"
          }
        }
      ]
    },
    {
      "cell_type": "code",
      "metadata": {
        "id": "6poiFMXJ2vHF",
        "colab_type": "code",
        "colab": {}
      },
      "source": [
        ""
      ],
      "execution_count": null,
      "outputs": []
    }
  ]
}