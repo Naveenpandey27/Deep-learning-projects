{
  "nbformat": 4,
  "nbformat_minor": 0,
  "metadata": {
    "colab": {
      "name": "Image classification usin CNN.ipynb",
      "provenance": []
    },
    "kernelspec": {
      "name": "python3",
      "display_name": "Python 3"
    }
  },
  "cells": [
    {
      "cell_type": "code",
      "metadata": {
        "id": "ycZDWBkShcy7"
      },
      "source": [
        "import tensorflow as tf\n",
        "import numpy as np\n",
        "import matplotlib.pyplot as plt\n",
        "from tensorflow.keras import datasets, layers, models"
      ],
      "execution_count": null,
      "outputs": []
    },
    {
      "cell_type": "code",
      "metadata": {
        "id": "D8b4qEXEhdsP"
      },
      "source": [
        "(X_train, y_train),(X_test, y_test) = datasets.cifar10.load_data()"
      ],
      "execution_count": null,
      "outputs": []
    },
    {
      "cell_type": "code",
      "metadata": {
        "colab": {
          "base_uri": "https://localhost:8080/"
        },
        "id": "FIV7FiYdhw5d",
        "outputId": "ae940445-bedf-4e20-dc64-ed39045b76c3"
      },
      "source": [
        "X_train.shape"
      ],
      "execution_count": null,
      "outputs": [
        {
          "output_type": "execute_result",
          "data": {
            "text/plain": [
              "(50000, 32, 32, 3)"
            ]
          },
          "metadata": {
            "tags": []
          },
          "execution_count": 11
        }
      ]
    },
    {
      "cell_type": "code",
      "metadata": {
        "colab": {
          "base_uri": "https://localhost:8080/"
        },
        "id": "SpPghBN-h1Zw",
        "outputId": "bfe921dd-5d90-47b6-f1a5-e07e8e24ebdd"
      },
      "source": [
        "X_test.shape"
      ],
      "execution_count": null,
      "outputs": [
        {
          "output_type": "execute_result",
          "data": {
            "text/plain": [
              "(10000, 32, 32, 3)"
            ]
          },
          "metadata": {
            "tags": []
          },
          "execution_count": 12
        }
      ]
    },
    {
      "cell_type": "code",
      "metadata": {
        "colab": {
          "base_uri": "https://localhost:8080/",
          "height": 285
        },
        "id": "zGv8J1QPiACx",
        "outputId": "290220a5-966b-4061-be53-a4b9e4a7b2a9"
      },
      "source": [
        "plt.imshow(X_train[1])"
      ],
      "execution_count": null,
      "outputs": [
        {
          "output_type": "execute_result",
          "data": {
            "text/plain": [
              "<matplotlib.image.AxesImage at 0x7fe4c8ee9ef0>"
            ]
          },
          "metadata": {
            "tags": []
          },
          "execution_count": 13
        },
        {
          "output_type": "display_data",
          "data": {
            "image/png": "[encoded data removed]",
            "text/plain": [
              "<Figure size 432x288 with 1 Axes>"
            ]
          },
          "metadata": {
            "tags": [],
            "needs_background": "light"
          }
        }
      ]
    },
    {
      "cell_type": "code",
      "metadata": {
        "colab": {
          "base_uri": "https://localhost:8080/"
        },
        "id": "gOMkt4Q7iG79",
        "outputId": "ac6846a8-36ad-48f9-9d96-6bf3a784d498"
      },
      "source": [
        "y_train[:6]"
      ],
      "execution_count": null,
      "outputs": [
        {
          "output_type": "execute_result",
          "data": {
            "text/plain": [
              "array([[6],\n",
              "       [9],\n",
              "       [9],\n",
              "       [4],\n",
              "       [1],\n",
              "       [1]], dtype=uint8)"
            ]
          },
          "metadata": {
            "tags": []
          },
          "execution_count": 14
        }
      ]
    },
    {
      "cell_type": "code",
      "metadata": {
        "colab": {
          "base_uri": "https://localhost:8080/"
        },
        "id": "ytu_vPY_4QS2",
        "outputId": "41fb3f0b-f2ae-4e04-90dd-c8374e3c2bc2"
      },
      "source": [
        "y_train = y_train.reshape(-1,)\n",
        "y_train[:6]"
      ],
      "execution_count": null,
      "outputs": [
        {
          "output_type": "execute_result",
          "data": {
            "text/plain": [
              "array([6, 9, 9, 4, 1, 1], dtype=uint8)"
            ]
          },
          "metadata": {
            "tags": []
          },
          "execution_count": 15
        }
      ]
    },
    {
      "cell_type": "code",
      "metadata": {
        "colab": {
          "base_uri": "https://localhost:8080/"
        },
        "id": "45GpAvel4ejj",
        "outputId": "8ed53091-6c92-43c4-a378-44c53f87b4fc"
      },
      "source": [
        "y_test = y_test.reshape(-1,)\n",
        "y_test[:6]"
      ],
      "execution_count": null,
      "outputs": [
        {
          "output_type": "execute_result",
          "data": {
            "text/plain": [
              "array([3, 8, 8, 0, 6, 6], dtype=uint8)"
            ]
          },
          "metadata": {
            "tags": []
          },
          "execution_count": 18
        }
      ]
    },
    {
      "cell_type": "code",
      "metadata": {
        "id": "TILJHZsY4mEZ"
      },
      "source": [
        "classes = [\"airplane\",\"automobile\",\"bird\",\"cat\",\"deer\",\"dog\",\"frog\",\"horse\",\"ship\",\"truck\"]"
      ],
      "execution_count": null,
      "outputs": []
    },
    {
      "cell_type": "code",
      "metadata": {
        "id": "X6yuJCSo4zZm"
      },
      "source": [
        "def plot_sample(X, y, index):\n",
        "    plt.figure(figsize = (15,5))\n",
        "    plt.imshow(X[index])\n",
        "    plt.xlabel(classes[y[index]])"
      ],
      "execution_count": null,
      "outputs": []
    },
    {
      "cell_type": "code",
      "metadata": {
        "colab": {
          "base_uri": "https://localhost:8080/",
          "height": 334
        },
        "id": "rxVsLW3Y47qC",
        "outputId": "86662613-81e5-4ba2-e27b-5c68ee5d57de"
      },
      "source": [
        "plot_sample(X_train, y_train, 0)"
      ],
      "execution_count": null,
      "outputs": [
        {
          "output_type": "display_data",
          "data": {
            "image/png": "[encoded data removed]",
            "text/plain": [
              "<Figure size 1080x360 with 1 Axes>"
            ]
          },
          "metadata": {
            "tags": [],
            "needs_background": "light"
          }
        }
      ]
    },
    {
      "cell_type": "code",
      "metadata": {
        "colab": {
          "base_uri": "https://localhost:8080/",
          "height": 334
        },
        "id": "hRFS5roQ5RpZ",
        "outputId": "fcd4da23-7c82-482d-9e59-a41e832e8888"
      },
      "source": [
        "plot_sample(X_train, y_train, 5)"
      ],
      "execution_count": null,
      "outputs": [
        {
          "output_type": "display_data",
          "data": {
            "image/png": "[encoded data removed]",
            "text/plain": [
              "<Figure size 1080x360 with 1 Axes>"
            ]
          },
          "metadata": {
            "tags": [],
            "needs_background": "light"
          }
        }
      ]
    },
    {
      "cell_type": "code",
      "metadata": {
        "id": "fhbpwtA95fus"
      },
      "source": [
        "X_train = X_train/255\n",
        "X_test = X_test/255"
      ],
      "execution_count": null,
      "outputs": []
    },
    {
      "cell_type": "code",
      "metadata": {
        "colab": {
          "base_uri": "https://localhost:8080/"
        },
        "id": "CXFYZG4T5rXc",
        "outputId": "da9f8acd-788b-4258-e069-d95b8079aca7"
      },
      "source": [
        "#Using ANN \n",
        "\n",
        "ann = models.Sequential([layers.Flatten(input_shape=(32,32,3)),\n",
        "                         layers.Dense(3000, activation='relu'),\n",
        "                         layers.Dense(1000, activation='relu'),\n",
        "                         layers.Dense(10, activation='sigmoid')    \n",
        "                        ])\n",
        "\n",
        "ann.compile(optimizer='SGD',\n",
        "              loss='sparse_categorical_crossentropy',\n",
        "              metrics=['accuracy'])\n",
        "\n",
        "ann.fit(X_train, y_train, epochs=10)"
      ],
      "execution_count": null,
      "outputs": [
        {
          "output_type": "stream",
          "text": [
            "Epoch 1/10\n",
            "1563/1563 [==============================] - 96s 62ms/step - loss: 1.8557 - accuracy: 0.3345\n",
            "Epoch 2/10\n",
            "1563/1563 [==============================] - 97s 62ms/step - loss: 1.6576 - accuracy: 0.4124\n",
            "Epoch 3/10\n",
            "1563/1563 [==============================] - 97s 62ms/step - loss: 1.5717 - accuracy: 0.4455\n",
            "Epoch 4/10\n",
            "1563/1563 [==============================] - 95s 61ms/step - loss: 1.5091 - accuracy: 0.4678\n",
            "Epoch 5/10\n",
            "1563/1563 [==============================] - 99s 63ms/step - loss: 1.4592 - accuracy: 0.4830\n",
            "Epoch 6/10\n",
            "1563/1563 [==============================] - 103s 66ms/step - loss: 1.4170 - accuracy: 0.5010\n",
            "Epoch 7/10\n",
            "1563/1563 [==============================] - 98s 63ms/step - loss: 1.3772 - accuracy: 0.5153\n",
            "Epoch 8/10\n",
            "1563/1563 [==============================] - 98s 63ms/step - loss: 1.3384 - accuracy: 0.5315\n",
            "Epoch 9/10\n",
            "1563/1563 [==============================] - 98s 63ms/step - loss: 1.3117 - accuracy: 0.5385\n",
            "Epoch 10/10\n",
            "1563/1563 [==============================] - 98s 63ms/step - loss: 1.2765 - accuracy: 0.5504\n"
          ],
          "name": "stdout"
        },
        {
          "output_type": "execute_result",
          "data": {
            "text/plain": [
              "<tensorflow.python.keras.callbacks.History at 0x7fe4c0b26780>"
            ]
          },
          "metadata": {
            "tags": []
          },
          "execution_count": 26
        }
      ]
    },
    {
      "cell_type": "code",
      "metadata": {
        "colab": {
          "base_uri": "https://localhost:8080/"
        },
        "id": "lxzoS1yZ6dXc",
        "outputId": "ebad8e73-a63b-4447-a2ce-56f6fdfc4ef8"
      },
      "source": [
        "from sklearn.metrics import confusion_matrix, classification_report\n",
        "y_pred = ann.predict(X_test)\n",
        "y_pred_classes = [np.argmax(element) for element in y_pred]\n",
        "\n",
        "print(classification_report(y_test, y_pred_classes))\n"
      ],
      "execution_count": null,
      "outputs": [
        {
          "output_type": "stream",
          "text": [
            "              precision    recall  f1-score   support\n",
            "\n",
            "           0       0.60      0.54      0.57      1000\n",
            "           1       0.75      0.49      0.59      1000\n",
            "           2       0.41      0.40      0.41      1000\n",
            "           3       0.43      0.14      0.21      1000\n",
            "           4       0.40      0.52      0.45      1000\n",
            "           5       0.42      0.44      0.43      1000\n",
            "           6       0.44      0.69      0.54      1000\n",
            "           7       0.69      0.48      0.56      1000\n",
            "           8       0.49      0.76      0.60      1000\n",
            "           9       0.59      0.57      0.58      1000\n",
            "\n",
            "    accuracy                           0.50     10000\n",
            "   macro avg       0.52      0.50      0.49     10000\n",
            "weighted avg       0.52      0.50      0.49     10000\n",
            "\n"
          ],
          "name": "stdout"
        }
      ]
    },
    {
      "cell_type": "code",
      "metadata": {
        "id": "AsZ-mVIo_E2l"
      },
      "source": [
        "#Using CNN\n",
        "\n",
        "cnn = models.Sequential([\n",
        "    layers.Conv2D(filters=32, kernel_size=(3, 3), activation='relu', input_shape=(32, 32, 3)),\n",
        "    layers.MaxPooling2D((2, 2)),\n",
        "    \n",
        "    layers.Conv2D(filters=64, kernel_size=(3, 3), activation='relu'),\n",
        "    layers.MaxPooling2D((2, 2)),\n",
        "    \n",
        "    layers.Flatten(),\n",
        "    layers.Dense(64, activation='relu'),\n",
        "    layers.Dense(10, activation='softmax')\n",
        "])"
      ],
      "execution_count": null,
      "outputs": []
    },
    {
      "cell_type": "code",
      "metadata": {
        "id": "KTcW6bxw_y80"
      },
      "source": [
        "cnn.compile(optimizer='adam',\n",
        "              loss='sparse_categorical_crossentropy',\n",
        "              metrics=['accuracy'])"
      ],
      "execution_count": null,
      "outputs": []
    },
    {
      "cell_type": "code",
      "metadata": {
        "colab": {
          "base_uri": "https://localhost:8080/"
        },
        "id": "Vdl817bg_0T6",
        "outputId": "8712f086-6fa2-4d7d-c73b-43b2801de422"
      },
      "source": [
        "cnn.fit(X_train, y_train, epochs=10)"
      ],
      "execution_count": null,
      "outputs": [
        {
          "output_type": "stream",
          "text": [
            "Epoch 1/10\n",
            "1563/1563 [==============================] - 59s 38ms/step - loss: 1.4713 - accuracy: 0.4693\n",
            "Epoch 2/10\n",
            "1563/1563 [==============================] - 59s 38ms/step - loss: 1.1120 - accuracy: 0.6097\n",
            "Epoch 3/10\n",
            "1563/1563 [==============================] - 58s 37ms/step - loss: 0.9945 - accuracy: 0.6551\n",
            "Epoch 4/10\n",
            "1563/1563 [==============================] - 59s 37ms/step - loss: 0.9086 - accuracy: 0.6861\n",
            "Epoch 5/10\n",
            "1563/1563 [==============================] - 59s 38ms/step - loss: 0.8543 - accuracy: 0.7043\n",
            "Epoch 6/10\n",
            "1563/1563 [==============================] - 59s 38ms/step - loss: 0.7974 - accuracy: 0.7245\n",
            "Epoch 7/10\n",
            "1563/1563 [==============================] - 62s 39ms/step - loss: 0.7511 - accuracy: 0.7398\n",
            "Epoch 8/10\n",
            "1563/1563 [==============================] - 59s 38ms/step - loss: 0.7095 - accuracy: 0.7529\n",
            "Epoch 9/10\n",
            "1563/1563 [==============================] - 59s 38ms/step - loss: 0.6707 - accuracy: 0.7655\n",
            "Epoch 10/10\n",
            "1563/1563 [==============================] - 59s 38ms/step - loss: 0.6343 - accuracy: 0.7782\n"
          ],
          "name": "stdout"
        },
        {
          "output_type": "execute_result",
          "data": {
            "text/plain": [
              "<tensorflow.python.keras.callbacks.History at 0x7fe4b77cd358>"
            ]
          },
          "metadata": {
            "tags": []
          },
          "execution_count": 30
        }
      ]
    },
    {
      "cell_type": "code",
      "metadata": {
        "colab": {
          "base_uri": "https://localhost:8080/"
        },
        "id": "iEBoGi4n_4K0",
        "outputId": "8aea9892-cd8d-4b2b-a356-951f3e95aec8"
      },
      "source": [
        "cnn.evaluate(X_test,y_test)"
      ],
      "execution_count": null,
      "outputs": [
        {
          "output_type": "stream",
          "text": [
            "313/313 [==============================] - 4s 12ms/step - loss: 0.9125 - accuracy: 0.7007\n"
          ],
          "name": "stdout"
        },
        {
          "output_type": "execute_result",
          "data": {
            "text/plain": [
              "[0.9125378131866455, 0.7006999850273132]"
            ]
          },
          "metadata": {
            "tags": []
          },
          "execution_count": 31
        }
      ]
    },
    {
      "cell_type": "code",
      "metadata": {
        "colab": {
          "base_uri": "https://localhost:8080/"
        },
        "id": "kDUhc0XdCmmJ",
        "outputId": "299c8e58-8d45-472d-df30-98cf51eecc80"
      },
      "source": [
        "y_pred = cnn.predict(X_test)\n",
        "y_pred[:6]"
      ],
      "execution_count": null,
      "outputs": [
        {
          "output_type": "execute_result",
          "data": {
            "text/plain": [
              "array([[2.94564670e-04, 2.73324829e-03, 8.71371594e-04, 8.58756125e-01,\n",
              "        3.67249857e-04, 1.15981422e-01, 1.47890523e-02, 2.12869549e-04,\n",
              "        4.73789079e-03, 1.25626766e-03],\n",
              "       [4.34576767e-03, 1.71108216e-01, 3.17928098e-05, 1.93848632e-06,\n",
              "        7.63699362e-08, 1.22174939e-07, 1.70824978e-06, 4.04519156e-08,\n",
              "        8.21160018e-01, 3.35023645e-03],\n",
              "       [1.02781795e-01, 6.99462712e-01, 1.47983143e-02, 3.99502218e-02,\n",
              "        9.30260215e-03, 3.58108641e-03, 4.96550056e-04, 1.55035239e-02,\n",
              "        5.43071590e-02, 5.98159768e-02],\n",
              "       [8.57132614e-01, 5.34764342e-02, 4.92891297e-02, 1.05636078e-03,\n",
              "        3.51167540e-03, 4.35192924e-05, 7.25876261e-03, 4.17340634e-04,\n",
              "        2.77746189e-02, 3.95616735e-05],\n",
              "       [1.98989801e-05, 1.05145591e-04, 6.81656152e-02, 1.00418273e-02,\n",
              "        1.74751431e-01, 5.31833060e-03, 7.41448760e-01, 4.64810510e-05,\n",
              "        9.60475445e-05, 6.43978774e-06],\n",
              "       [3.04063565e-06, 2.49013792e-05, 9.37524543e-04, 8.79406370e-03,\n",
              "        7.35863065e-03, 4.27803351e-03, 9.78230119e-01, 8.41854271e-05,\n",
              "        2.78828666e-04, 1.06814714e-05]], dtype=float32)"
            ]
          },
          "metadata": {
            "tags": []
          },
          "execution_count": 32
        }
      ]
    },
    {
      "cell_type": "code",
      "metadata": {
        "colab": {
          "base_uri": "https://localhost:8080/"
        },
        "id": "NVKuAXZWCzk8",
        "outputId": "4d77210a-f094-427a-913c-f6784e0652d2"
      },
      "source": [
        "y_classes = [np.argmax(element) for element in y_pred]\n",
        "y_classes[:6]"
      ],
      "execution_count": null,
      "outputs": [
        {
          "output_type": "execute_result",
          "data": {
            "text/plain": [
              "[3, 8, 1, 0, 6, 6]"
            ]
          },
          "metadata": {
            "tags": []
          },
          "execution_count": 33
        }
      ]
    },
    {
      "cell_type": "code",
      "metadata": {
        "colab": {
          "base_uri": "https://localhost:8080/"
        },
        "id": "Gkn6y6sTDHWS",
        "outputId": "dce8085b-2fc4-4d5b-9dee-7012bc47964c"
      },
      "source": [
        "y_test[:6]"
      ],
      "execution_count": null,
      "outputs": [
        {
          "output_type": "execute_result",
          "data": {
            "text/plain": [
              "array([3, 8, 8, 0, 6, 6], dtype=uint8)"
            ]
          },
          "metadata": {
            "tags": []
          },
          "execution_count": 34
        }
      ]
    },
    {
      "cell_type": "code",
      "metadata": {
        "colab": {
          "base_uri": "https://localhost:8080/",
          "height": 334
        },
        "id": "KURxihLWDNBM",
        "outputId": "8c2b9078-3c6b-431b-8782-f56c227bfc17"
      },
      "source": [
        "plot_sample(X_test, y_test, 4)"
      ],
      "execution_count": null,
      "outputs": [
        {
          "output_type": "display_data",
          "data": {
            "image/png": "[encoded data removed]",
            "text/plain": [
              "<Figure size 1080x360 with 1 Axes>"
            ]
          },
          "metadata": {
            "tags": [],
            "needs_background": "light"
          }
        }
      ]
    },
    {
      "cell_type": "code",
      "metadata": {
        "colab": {
          "base_uri": "https://localhost:8080/",
          "height": 35
        },
        "id": "Vi1qrSotDS6G",
        "outputId": "e5113a70-63f6-432a-9c2e-9c7fd3ac1e2e"
      },
      "source": [
        "classes[y_classes[4]]"
      ],
      "execution_count": null,
      "outputs": [
        {
          "output_type": "execute_result",
          "data": {
            "application/vnd.google.colaboratory.intrinsic+json": {
              "type": "string"
            },
            "text/plain": [
              "'frog'"
            ]
          },
          "metadata": {
            "tags": []
          },
          "execution_count": 37
        }
      ]
    },
    {
      "cell_type": "code",
      "metadata": {
        "colab": {
          "base_uri": "https://localhost:8080/",
          "height": 334
        },
        "id": "X_Pp3ddeDZYn",
        "outputId": "b45d0ce1-41db-4008-8bb8-8e2a27b257f5"
      },
      "source": [
        "plot_sample(X_test, y_test, 9)"
      ],
      "execution_count": null,
      "outputs": [
        {
          "output_type": "display_data",
          "data": {
            "image/png": "[encoded data removed]",
            "text/plain": [
              "<Figure size 1080x360 with 1 Axes>"
            ]
          },
          "metadata": {
            "tags": [],
            "needs_background": "light"
          }
        }
      ]
    },
    {
      "cell_type": "code",
      "metadata": {
        "colab": {
          "base_uri": "https://localhost:8080/",
          "height": 35
        },
        "id": "x0cnB0H1DhcL",
        "outputId": "b6d48a12-1e18-4cbd-db28-fc1893ace801"
      },
      "source": [
        "classes[y_classes[9]]"
      ],
      "execution_count": null,
      "outputs": [
        {
          "output_type": "execute_result",
          "data": {
            "application/vnd.google.colaboratory.intrinsic+json": {
              "type": "string"
            },
            "text/plain": [
              "'automobile'"
            ]
          },
          "metadata": {
            "tags": []
          },
          "execution_count": 40
        }
      ]
    },
    {
      "cell_type": "code",
      "metadata": {
        "id": "hX4RN3kjDqgF"
      },
      "source": [
        ""
      ],
      "execution_count": null,
      "outputs": []
    }
  ]
}